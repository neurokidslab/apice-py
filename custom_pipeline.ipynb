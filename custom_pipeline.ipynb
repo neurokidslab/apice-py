{
 "cells": [
  {
   "cell_type": "markdown",
   "metadata": {
    "collapsed": false
   },
   "source": [
    "# Customizing Apice-py Pipeline\n",
    "This Jupyter Notebook tutorial will guide you through the process of creating and customizing a preprocessing pipeline using the apice-py framework."
   ]
  },
  {
   "cell_type": "markdown",
   "metadata": {
    "collapsed": false
   },
   "source": [
    "## 1. Prerequisites\n",
    "\n",
    "Before we begin, make sure you have the following prerequisites in place:\n",
    "\n",
    "- Python 3.12 or latest installed\n",
    "- Jupyter Notebook installed\n",
    "- Environment with apice-py requirements installed\n",
    "- apice-py module (folder)\n"
   ]
  },
  {
   "cell_type": "markdown",
   "metadata": {
    "collapsed": false
   },
   "source": [
    "## 2. Importing Libraries"
   ]
  },
  {
   "cell_type": "code",
   "execution_count": null,
   "metadata": {
    "collapsed": false,
    "pycharm": {
     "is_executing": true
    }
   },
   "outputs": [],
   "source": [
    "import sys\n",
    "import os\n",
    "\n",
    "import matplotlib\n",
    "matplotlib.use('TkAgg')\n",
    "\n",
    "import matplotlib.pyplot as plt  # Import Matplotlib for data visualization\n",
    "\n",
    "import mne  # Import MNE-Python for EEG data handling\n",
    "import mne.baseline  # Import MNE-Python baseline module for baseline correction\n",
    "\n",
    "# Import APICE (assuming it's in a custom location)\n",
    "sys.path.append(r\"apice\")\n",
    "\n",
    "from apice.pipeline import *  # Import APICE pipeline components\n",
    "from apice.artifacts_rejection import *  # Import APICE artifacts rejection tools\n",
    "from apice.io import *  # Import APICE input/output functions\n",
    "from apice.filter import *  # Import APICE filtering methods\n"
   ]
  },
  {
   "cell_type": "markdown",
   "metadata": {
    "collapsed": false
   },
   "source": [
    "## 3. Directories and Input Parameters"
   ]
  },
  {
   "cell_type": "code",
   "execution_count": null,
   "metadata": {
    "collapsed": false
   },
   "outputs": [],
   "source": [
    "# Base directory where your main directory is located\n",
    "BASE_DIR = os.getcwd()\n",
    "\n",
    "# Directory for input data\n",
    "INPUT_DIR = r\".../input\"\n",
    "\n",
    "# Directory for output data\n",
    "OUTPUT_DIR = r\".../output\"\n",
    "\n",
    "# Selection method ( 1 - Run it for all the files found and overwrite previous output files (default)\n",
    "# 2 - Run it only for the new files\n",
    "# 3 - Run specific files. Space key + enter key to stop the input prompt.)\n",
    "SELECTION_METHOD = 1\n",
    "\n",
    "# Montage (information regarding the sensor locations, - built_in mne montage or - electrode layout file)\n",
    "MONTAGE = r\"electrode_layout/GSN-HydroCel-128.sfp\"\n",
    "\n",
    "# Event keys for segmentation (array of event types relative to the epochs)\n",
    "EVENT_KEYS_FOR_SEGMENTATION = ['Icue', 'Ieye', 'Iout'] \n",
    "\n",
    "# Event time window for segmentation (start and end time of the epochs in seconds)\n",
    "EVENT_TIME_WINDOW = [-1.600, 2.200] \n",
    "\n",
    "# Baseline time window for segmentation (time interval to consider as baseline when applying baseline correction of epochs, in seconds)\n",
    "BASELINE_TIME_WINDOW = [-1.600, 0]\n",
    "\n",
    "# Flag to indicate whether to process data by event type\n",
    "BY_EVENT_TYPE = True\n",
    "\n",
    "# Flag to save preprocessed raw data\n",
    "SAVE_PREPROCESSED_RAW = True\n",
    "\n",
    "# Flag to save segmented data\n",
    "SAVE_SEGMENTED_DATA = True  \n",
    "\n",
    "# Flag to save evoked response data\n",
    "SAVE_EVOKED_RESPONSE = True\n",
    "\n",
    "# Flag to save log files\n",
    "SAVE_LOG = False \n",
    "\n",
    "# Number of core used in the computation (-1 to use all the available, faster computation)\n",
    "N_JOBS = -1\n"
   ]
  },
  {
   "cell_type": "markdown",
   "metadata": {
    "collapsed": false
   },
   "source": [
    "## 4. Running APICE on an IDE\n",
    "Incorporating the complete APICE pipeline into your code within an Integrated Development Environment (IDE) is straightforward. Here's an example:"
   ]
  },
  {
   "cell_type": "code",
   "execution_count": null,
   "metadata": {
    "collapsed": false
   },
   "outputs": [],
   "source": [
    "import apice.pipeline\n",
    "\n",
    "# Run the APICE pipeline with specified parameters\n",
    "apice.pipeline.run(\n",
    "    input_dir=INPUT_DIR,                                        # Directory containing your input data\n",
    "    output_dir=OUTPUT_DIR,                                      # Directory where the output data will be saved\n",
    "    data_selection_method=SELECTION_METHOD,                     # Data selection method (e.g., 1)\n",
    "    event_keys_for_segmentation=EVENT_KEYS_FOR_SEGMENTATION,    # Event keys for segmentation\n",
    "    event_time_window=EVENT_TIME_WINDOW,                        # Event time window, e.g., [-0.2, 2.2]\n",
    "    baseline_time_window=BASELINE_TIME_WINDOW,                  # Baseline time window, e.g., [-0.2, 0]\n",
    "    montage=MONTAGE,                                            # EEG electrode montage, e.g., \"GSN-HydroCel-128\"\n",
    "    by_event_type=BY_EVENT_TYPE,                                # Flag to process data by event type\n",
    "    save_preprocessed_raw=SAVE_PREPROCESSED_RAW,                # Flag to save preprocessed raw data\n",
    "    save_segmented_data=SAVE_SEGMENTED_DATA,                    # Flag to save segmented data\n",
    "    save_evoked_response=SAVE_EVOKED_RESPONSE,                  # Flag to save evoked response data\n",
    "    save_log=SAVE_LOG,                                          # Flag to save log files\n",
    "    n_jobs=N_JOBS                                               # Number of parallel jobs\n",
    ")\n",
    "\n",
    "# Alternatively, you can provide the parameters directly\n",
    "# apice.pipeline.run(\n",
    "#     input_dir=INPUT_DIR,\n",
    "#     output_dir=OUTPUT_DIR,\n",
    "#     data_selection_method=1,\n",
    "#     event_keys_for_segmentation=[\"Iout\", \"Icue\"],\n",
    "#     event_time_window=[-0.2, 2.2],\n",
    "#     baseline_time_window=[-0.2, 0],\n",
    "#     montage=\"GSN-HydroCel-128\",\n",
    "#     by_event_type=True,\n",
    "#     save_preprocessed_raw=True,\n",
    "#     save_segmented_data=True,\n",
    "#     save_evoked_response=True,\n",
    "#     save_log=False\n",
    "#     n_jobs=-1\n",
    "# )\n"
   ]
  },
  {
   "cell_type": "markdown",
   "metadata": {
    "collapsed": false
   },
   "source": [
    "## 5. Customizing the APICE pipeline\n",
    "\n",
    "One of the key advantages of using the APICE framework is its flexibility and customizability. You can choose the order and components of the preprocessing pipeline to tailor it to your specific data and analysis needs."
   ]
  },
  {
   "cell_type": "markdown",
   "metadata": {
    "collapsed": false
   },
   "source": [
    "### 5.1 Import Data"
   ]
  },
  {
   "cell_type": "code",
   "execution_count": null,
   "metadata": {
    "collapsed": false
   },
   "outputs": [],
   "source": [
    "# Define the filename of the EEG data you want to import\n",
    "file_name = 'data_example.set'\n",
    "\n",
    "# Create the full path to the input EEG data file by joining the INPUT_DIR and file_name\n",
    "# INPUT_DIR = r\"..\\input\"\n",
    "full_path = os.path.join(INPUT_DIR, file_name)\n",
    "\n",
    "# Import the EEG data using the APICE library\n",
    "from apice.io import Raw\n",
    "# EEG = Raw.import_raw(full_path, montage=\"GSN-HydroCel-129\")\n",
    "EEG = Raw.import_raw(full_path, montage=MONTAGE)"
   ]
  },
  {
   "cell_type": "code",
   "execution_count": null,
   "metadata": {
    "collapsed": false
   },
   "outputs": [],
   "source": [
    "# Import the necessary MNE-Python module for EEG data visualization\n",
    "import mne\n",
    "\n",
    "# Create a figure to visualize the raw EEG data\n",
    "fig = mne.viz.plot_raw(\n",
    "    raw=EEG,                        # The EEG data you want to visualize\n",
    "    start=0,                        # The start time (in seconds) for visualization\n",
    "    duration=100,                   # The duration (in seconds) of the data to visualize\n",
    "    n_channels=len(EEG.ch_names),   # Number of EEG channels (automatically determined)\n",
    "    scalings=50e-6,                 # Scalings for the EEG data (adjust as needed)\n",
    "    clipping=None                   # Clipping options (None means no clipping)\n",
    ")"
   ]
  },
  {
   "cell_type": "code",
   "execution_count": null,
   "metadata": {},
   "outputs": [],
   "source": [
    "# visualize the electrode layout\n",
    "EEG.plot_sensors(show_names=True)"
   ]
  },
  {
   "cell_type": "markdown",
   "metadata": {
    "collapsed": false
   },
   "source": [
    "### 5.2 Filter"
   ]
  },
  {
   "cell_type": "code",
   "execution_count": null,
   "metadata": {
    "collapsed": false
   },
   "outputs": [],
   "source": [
    "# Define the minimum and maximum frequencies for the filter\n",
    "fmin = 0.2  # Minimum frequency (Hz)\n",
    "fmax = 40   # Maximum frequency (Hz)\n",
    "\n",
    "# Import the Filter module from the APICE library\n",
    "from apice.filter import Filter\n",
    "\n",
    "# Apply the filter to the EEG data\n",
    "# This filters the EEG data to retain frequencies between fmin and fmax\n",
    "Filter(EEG, high_pass_freq=fmin, low_pass_freq=fmax)\n",
    "\n",
    "# Rescale EEG data using MNE-Python's baseline correction\n",
    "EEG._data = mne.baseline.rescale(\n",
    "    EEG._data,  # EEG data to rescale\n",
    "    EEG.times,  # Time information\n",
    "    baseline=(None, None),  # Baseline period (None means the entire recording)\n",
    "    mode='mean',  # Rescaling mode (mean)\n",
    "    copy=False  # Modify the EEG data in place\n",
    ")"
   ]
  },
  {
   "cell_type": "code",
   "execution_count": null,
   "metadata": {
    "collapsed": false
   },
   "outputs": [],
   "source": [
    "# Create a figure to visualize the raw EEG data\n",
    "fig = mne.viz.plot_raw(\n",
    "    raw=EEG,                        # The EEG data you want to visualize\n",
    "    start=0,                        # The start time (in seconds) for visualization\n",
    "    duration=100,                   # The duration (in seconds) of the data to visualize\n",
    "    n_channels=len(EEG.ch_names),   # Number of EEG channels (automatically determined)\n",
    "    scalings=50e-6,                 # Scalings for the EEG data (adjust as needed)\n",
    "    clipping=None                   # Clipping options (None means no clipping)\n",
    ")"
   ]
  },
  {
   "cell_type": "code",
   "execution_count": null,
   "metadata": {
    "collapsed": false
   },
   "outputs": [],
   "source": [
    "# Set Matplotlib to use the 'qt' backend for interactive plots\n",
    "# %matplotlib qt\n",
    "\n",
    "# Compute the PSD of EEG data within the specified frequency range (fmin to fmax)\n",
    "psd = EEG.compute_psd(fmin=fmin, fmax=fmax)\n",
    "\n",
    "# Plot the PSD using the 'qt' backend for interactive plotting\n",
    "fig = psd.plot()\n",
    "\n",
    "# Switch back to the 'inline' backend for non-interactive plots\n",
    "# %matplotlib inline"
   ]
  },
  {
   "cell_type": "markdown",
   "metadata": {
    "collapsed": false
   },
   "source": [
    "### 5.3 Artifact Detection\n",
    "\n",
    "#### 5.3.1 Detect artifacts using the default artifact detection algorithm:"
   ]
  },
  {
   "cell_type": "code",
   "execution_count": null,
   "metadata": {
    "collapsed": false
   },
   "outputs": [],
   "source": [
    "# Create a copy of the EEG data for processing (so we don't have to import it again)\n",
    "EEG_copy = EEG.copy()\n",
    "\n",
    "# Detect and mark artifacts in the EEG data using the APICE pipeline\n",
    "apice.pipeline.detect_artifacts(EEG_copy)\n",
    "\n",
    "# Create a separate copy of EEG data with detected artifacts for later use\n",
    "EEG_with_artifacts = EEG_copy.copy()"
   ]
  },
  {
   "cell_type": "code",
   "execution_count": null,
   "metadata": {
    "collapsed": false
   },
   "outputs": [],
   "source": [
    "# Import the necessary module for visualizing artifact structure\n",
    "from apice.artifacts_structure import DefineBTBC\n",
    "\n",
    "# Create a figure to visualize the artifact structure\n",
    "fig = DefineBTBC.plot_artifact_structure(\n",
    "    EEG_copy,               # EEG data with marked artifacts\n",
    "    color_scheme='jet'  # Color scheme for visualization\n",
    ")\n",
    "fig.show()"
   ]
  },
  {
   "cell_type": "markdown",
   "metadata": {
    "collapsed": false
   },
   "source": [
    "#### 5.3.1 Detecting Bad Electrodes, Motion Artifacts, and Jump Artifacts"
   ]
  },
  {
   "cell_type": "code",
   "execution_count": null,
   "metadata": {
    "collapsed": false
   },
   "outputs": [],
   "source": [
    "# Create a copy of the EEG data for processing\n",
    "EEG_copy = EEG.copy()\n",
    "\n",
    "# Detect nonfunctional electrodes using the BadElectrodes function\n",
    "# This function identifies electrodes that may not be functioning correctly.\n",
    "apice.artifacts_rejection.BadElectrodes(EEG_copy)\n",
    "\n",
    "# Define Bad Times, Bad Channels (BTBC) and plot the rejection matrix\n",
    "# The DefineBTBC function helps identify segments of data with potential issues.\n",
    "from apice.artifacts_structure import DefineBTBC\n",
    "DefineBTBC(EEG_copy)\n",
    "\n",
    "# It also generates a rejection matrix for visualization.\n",
    "# Use 'plot_rejection_matrix' to True to display the rejection matrix.\n",
    "fig = DefineBTBC.plot_artifact_structure(EEG_copy, artifact='BC', time_step=100) # artifact = 'all', 'BCT', 'BT', 'BC'"
   ]
  },
  {
   "cell_type": "code",
   "execution_count": null,
   "metadata": {
    "collapsed": false
   },
   "outputs": [],
   "source": [
    "# Create a copy of the EEG data for processing\n",
    "EEG_copy = EEG.copy()\n",
    "\n",
    "# Detect motion artifacts using the Motion function\n",
    "# This function is used to identify motion artifacts in the EEG data.\n",
    "apice.artifacts_rejection.Motion(EEG_copy)\n",
    "\n",
    "# Define Bad Times, Bad Channels (BTBC) and plot the rejection matrix\n",
    "# The DefineBTBC function helps identify segments of data with potential issues.\n",
    "from apice.artifacts_structure import DefineBTBC\n",
    "DefineBTBC(EEG_copy)\n",
    "\n",
    "# It also generates a rejection matrix for visualization.\n",
    "# Use 'plot_rejection_matrix' to True to display the rejection matrix.\n",
    "fig = DefineBTBC.plot_artifact_structure(EEG_copy, artifact='all') # artifact = 'all', 'BCT', 'BT', 'BC'"
   ]
  },
  {
   "cell_type": "markdown",
   "metadata": {
    "collapsed": false
   },
   "source": [
    "#### 5.3.3 Detecting specific artifacts\n",
    "\n",
    "You can also use apice to detect artifacts, for example, those that are higher that a certain amplitude threshold."
   ]
  },
  {
   "cell_type": "code",
   "execution_count": null,
   "metadata": {
    "collapsed": false
   },
   "outputs": [],
   "source": [
    "# Create a copy of the EEG data for processing\n",
    "EEG_copy = EEG.copy()\n",
    "\n",
    "# Set the artifacts matrix of the EEG data using the Artifacts class\n",
    "from apice.artifacts_structure import Artifacts\n",
    "EEG_copy.artifacts = Artifacts(EEG_copy)\n",
    "\n",
    "# Detect high amplitude signals as artifacts\n",
    "from apice.artifacts_detection import Amplitude\n",
    "Amplitude(EEG_copy, thresh=500 * 1e-6)\n",
    "\n",
    "# Visualize the artifact structure using DefineBTBC\n",
    "from apice.artifacts_structure import DefineBTBC\n",
    "fig = DefineBTBC.plot_artifact_structure(EEG_copy)"
   ]
  },
  {
   "cell_type": "code",
   "execution_count": null,
   "metadata": {
    "collapsed": false
   },
   "outputs": [],
   "source": [
    "# Create a copy of the EEG data for processing\n",
    "EEG_copy = EEG.copy()\n",
    "\n",
    "# Set the artifacts matrix of the EEG data using the Artifacts class\n",
    "from apice.artifacts_structure import Artifacts\n",
    "EEG_copy.artifacts = Artifacts(EEG_copy)\n",
    "\n",
    "# Detect artifacts based on channel amplitude correlation\n",
    "from apice.artifacts_detection import ChannelCorr\n",
    "ChannelCorr(EEG_copy, time_window=4, time_window_step=2, thresh=0.4)\n",
    "\n",
    "# Visualize the artifact structure using DefineBTBC\n",
    "from apice.artifacts_structure import DefineBTBC\n",
    "fig = DefineBTBC.plot_artifact_structure(EEG_copy)"
   ]
  },
  {
   "cell_type": "code",
   "execution_count": null,
   "metadata": {
    "collapsed": false
   },
   "outputs": [],
   "source": [
    "# Create a copy of the EEG data for processing\n",
    "EEG_copy = EEG.copy()\n",
    "\n",
    "# Set the artifacts matrix of the EEG data using the Artifacts class\n",
    "from apice.artifacts_structure import Artifacts\n",
    "EEG_copy.artifacts = Artifacts(EEG_copy)\n",
    "\n",
    "# Detect high amplitude signals using a relative threshold\n",
    "from apice.artifacts_detection import Amplitude\n",
    "Amplitude(EEG_copy, use_relative_thresh=True)\n",
    "\n",
    "# Visualize the artifact structure using DefineBTBC\n",
    "from apice.artifacts_structure import DefineBTBC\n",
    "fig = DefineBTBC(EEG_copy, plot_rejection_matrix=True)"
   ]
  },
  {
   "cell_type": "markdown",
   "metadata": {
    "collapsed": false
   },
   "source": [
    "Please refer to artifacts_detection.py for the list of algorithms you can use."
   ]
  },
  {
   "cell_type": "markdown",
   "metadata": {
    "collapsed": false
   },
   "source": [
    "### 5.4 Artifact Correction\n",
    "\n",
    "You can use the artifact correction algorithm, the same idea as in Artifact Detection codes."
   ]
  },
  {
   "cell_type": "markdown",
   "metadata": {
    "collapsed": false
   },
   "source": [
    "#### 5.4.1 Correcting artifacts using the default APICE pipeline"
   ]
  },
  {
   "cell_type": "code",
   "execution_count": null,
   "metadata": {
    "collapsed": false
   },
   "outputs": [],
   "source": [
    "# Create a copy of the EEG data with artifacts for correction\n",
    "EEG_copy = EEG_with_artifacts.copy()\n",
    "\n",
    "# Correct artifacts using the default APICE pipeline\n",
    "apice.pipeline.correct_artifacts(EEG_copy)\n",
    "\n",
    "# Visualize the artifact structure after correction\n",
    "from apice.artifacts_structure import DefineBTBC\n",
    "fig = DefineBTBC(EEG_copy, plot_rejection_matrix=True)"
   ]
  },
  {
   "cell_type": "markdown",
   "metadata": {
    "collapsed": false
   },
   "source": [
    "#### 5.4.2 Correcting Artifacts separately"
   ]
  },
  {
   "cell_type": "code",
   "execution_count": null,
   "metadata": {
    "collapsed": false
   },
   "outputs": [],
   "source": [
    "# Create a copy of the EEG data with artifacts for correction\n",
    "EEG_copy = EEG_with_artifacts.copy()\n",
    "\n",
    "# Import artifact correction modules\n",
    "from apice.artifacts_correction import TargetPCA, SegmentSphericalSplineInterpolation, ChannelsSphericalSplineInterpolation\n",
    "\n",
    "# Apply Target PCA per Electrode for artifact correction\n",
    "TargetPCA(EEG_copy, config=True)  # config=True to use default parameters\n",
    "\n",
    "# Rescale EEG data using MNE-Python's baseline correction\n",
    "EEG._data = mne.baseline.rescale(\n",
    "    EEG_copy._data,  # EEG data to rescale\n",
    "    EEG.times,  # Time information\n",
    "    baseline=(None, None),  # Baseline period (None means the entire recording)\n",
    "    mode='mean',  # Rescaling mode (mean)\n",
    "    copy=False  # Modify the EEG data in place\n",
    ")\n",
    "\n",
    "# Apply filtering to the EEG data\n",
    "apice.filter.Filter(EEG_copy, high_pass_freq=0.2, low_pass_freq=[])\n",
    "\n",
    "# Visualize the artifact structure after correction\n",
    "from apice.artifacts_structure import DefineBTBC\n",
    "apice.artifacts_structure.DefineBTBC(EEG_copy, config=True)  # config=True to use default parameters"
   ]
  },
  {
   "cell_type": "code",
   "execution_count": null,
   "metadata": {
    "collapsed": false
   },
   "outputs": [],
   "source": [
    "# Spline Interpolation\n",
    "SegmentSphericalSplineInterpolation(EEG_copy, min_good_time=2)\n",
    "EEG._data = mne.baseline.rescale(EEG_copy._data, EEG_copy.times, baseline=(None, None), mode='mean', copy=False)\n",
    "apice.filter.Filter(EEG_copy, high_pass_freq=0.2, low_pass_freq=[])\n",
    "apice.artifacts_structure.DefineBTBC(EEG_copy, config=True)"
   ]
  },
  {
   "cell_type": "code",
   "execution_count": null,
   "metadata": {
    "collapsed": false
   },
   "outputs": [],
   "source": [
    "# Apply Channels Spline Interpolation for whole channels\n",
    "from apice.artifacts_correction import ChannelsSphericalSplineInterpolation\n",
    "ChannelsSphericalSplineInterpolation(EEG_copy, config=True)\n",
    "\n",
    "# Detect motion artifacts\n",
    "from apice.artifacts_rejection import Motion\n",
    "Motion(EEG_copy, type=2, keep_rejected_previous=False, config=True)\n",
    "\n",
    "# Visualize the artifact structure after correction and rejection\n",
    "from apice.artifacts_structure import DefineBTBC\n",
    "apice.artifacts_structure.DefineBTBC(\n",
    "    EEG_copy,\n",
    "    plot_rejection_matrix=True,\n",
    "    config=True\n",
    ")"
   ]
  },
  {
   "cell_type": "markdown",
   "metadata": {
    "collapsed": false
   },
   "source": [
    "Results are different from 5.4.1 because we did not use the same parameters (`config=False`)"
   ]
  },
  {
   "cell_type": "markdown",
   "metadata": {
    "collapsed": false
   },
   "source": [
    "### 5.5 Segmentation"
   ]
  },
  {
   "cell_type": "code",
   "execution_count": null,
   "metadata": {
    "collapsed": false
   },
   "outputs": [],
   "source": [
    "# Segment EEG data into epochs and define evoked responses\n",
    "Epochs, Evokeds = apice.pipeline.segment_data(\n",
    "    EEG_copy,                                   # EEG data to segment\n",
    "    event_keys=EVENT_KEYS_FOR_SEGMENTATION,     # Event keys for segmentation\n",
    "    tmin=-0.2,                                  # Start time of epochs (relative to events)\n",
    "    tmax=2.2,                                   # End time of epochs (relative to events)\n",
    "    by_event_type=True,                         # Segment by event type\n",
    "    n_jobs=-1\n",
    ")\n",
    "\n",
    "# If you don't need the evoked response\n",
    "# Epochs, _ = apice.pipeline.segment_data(\n",
    "#     EEG_copy,  # EEG data to segment\n",
    "#     event_keys=EVENT_KEYS_FOR_SEGMENTATION,  # Event keys for segmentation\n",
    "#     tmin=-0.2,  # Start time of epochs (relative to events)\n",
    "#     tmax=2.2,  # End time of epochs (relative to events)\n",
    "#     by_event_type=True  # Segment by event type\n",
    "# )\n"
   ]
  },
  {
   "cell_type": "code",
   "execution_count": null,
   "metadata": {
    "collapsed": false
   },
   "outputs": [],
   "source": [
    "# Visualize the segmented EEG epochs\n",
    "fig = Epochs.plot(events=Epochs.events, event_id = Epochs.event_id, scalings=50e-6)"
   ]
  },
  {
   "cell_type": "code",
   "execution_count": null,
   "metadata": {
    "collapsed": false
   },
   "outputs": [],
   "source": [
    "# Plot the event-related potential (ERP) for the first event key\n",
    "fig = Evokeds[0].plot()"
   ]
  }
 ],
 "metadata": {
  "kernelspec": {
   "display_name": "env_eeg_analysis",
   "language": "python",
   "name": "python3"
  },
  "language_info": {
   "codemirror_mode": {
    "name": "ipython",
    "version": 3
   },
   "file_extension": ".py",
   "mimetype": "text/x-python",
   "name": "python",
   "nbconvert_exporter": "python",
   "pygments_lexer": "ipython3",
   "version": "3.12.7"
  }
 },
 "nbformat": 4,
 "nbformat_minor": 0
}
